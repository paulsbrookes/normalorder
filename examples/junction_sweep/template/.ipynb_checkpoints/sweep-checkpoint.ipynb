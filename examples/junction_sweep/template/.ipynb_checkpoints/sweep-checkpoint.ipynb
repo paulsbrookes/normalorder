{
 "cells": [
  {
   "cell_type": "code",
   "execution_count": 1,
   "metadata": {},
   "outputs": [],
   "source": [
    "from normalorder.sense.bifurcation_finder import *\n",
    "from tqdm import tqdm\n",
    "import pickle\n",
    "from multiprocessing import Pool"
   ]
  },
  {
   "cell_type": "code",
   "execution_count": 2,
   "metadata": {},
   "outputs": [],
   "source": [
    "def parallel_wrapper(params):\n",
    "    idx = params[0]\n",
    "    try:\n",
    "        bf = task(*params[1:])\n",
    "        results = extract_results(bf)\n",
    "        success = 1\n",
    "    except:\n",
    "        results = None\n",
    "        success = 0\n",
    "    finally:\n",
    "        pickle.dump(results, open(\"./output/{}.p\".format(idx), \"wb\" ))\n",
    "        return success"
   ]
  },
  {
   "cell_type": "code",
   "execution_count": 3,
   "metadata": {},
   "outputs": [
    {
     "name": "stderr",
     "output_type": "stream",
     "text": [
      "100%|█████████████████████████████████| 25600/25600 [00:00<00:00, 181652.08it/s]\n"
     ]
    }
   ],
   "source": [
    "Z = 50 # ohms\n",
    "v_p = 1.1817e8 # m/s\n",
    "l = 0.007809801198766881 # m\n",
    "L_0 = Z / v_p # H/m\n",
    "C_0 = 1 /(v_p*Z) # F/m\n",
    "x_J = 0.0 # m\n",
    "Q_a = 10000\n",
    "\n",
    "phi_ext_initial = [-0.2]\n",
    "\n",
    "collected_signals = []\n",
    "\n",
    "#f_J_array = np.linspace(0.3, 3.0,11)*1e11\n",
    "phi_squid = 0.5\n",
    "threshold = 0.5\n",
    "\n",
    "f_J_snail_array = np.linspace(300, 3000, 10)*1e9\n",
    "f_J_squid_array = np.linspace(300, 3000, 10)*1e9\n",
    "f_J_snail_grid, f_J_squid_array = np.meshgrid(f_J_snail_array, f_J_squid_array)\n",
    "parameters_array = np.vstack([f_J_snail_grid.flatten(), f_J_squid_array.flatten()]).T\n",
    "\n",
    "collected_params = []\n",
    "\n",
    "for idx in tqdm(range(parameters_array.shape[0])):\n",
    "    f_J_snail, f_J_squid = parameters_array[idx]\n",
    "    f_J_1 = f_J_squid\n",
    "    f_J_2 = 1.04*f_J_squid\n",
    "    Q = 10000\n",
    "    resonator_params = {'x_J': x_J, 'L_0': L_0, 'l': l, 'C_0': C_0}\n",
    "    potential_params = {'f_J': f_J_snail, 'f_J_1': f_J_1, 'f_J_2': f_J_2, 'phi_squid': phi_squid}\n",
    "    \n",
    "    params = [idx, potential_params, resonator_params, Q, phi_squid]\n",
    "    collected_params.append(params)"
   ]
  },
  {
   "cell_type": "code",
   "execution_count": null,
   "metadata": {},
   "outputs": [],
   "source": [
    "pool = Pool(processes=2)\n",
    "success = pool.map(parallel_wrapper, collected_params)"
   ]
  }
 ],
 "metadata": {
  "kernelspec": {
   "display_name": "zeyu",
   "language": "python",
   "name": "zeyu"
  },
  "language_info": {
   "codemirror_mode": {
    "name": "ipython",
    "version": 3
   },
   "file_extension": ".py",
   "mimetype": "text/x-python",
   "name": "python",
   "nbconvert_exporter": "python",
   "pygments_lexer": "ipython3",
   "version": "3.9.6"
  }
 },
 "nbformat": 4,
 "nbformat_minor": 2
}
