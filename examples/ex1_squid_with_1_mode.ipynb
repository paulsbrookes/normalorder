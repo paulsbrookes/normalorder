{
 "cells": [
  {
   "cell_type": "code",
   "execution_count": 1,
   "metadata": {},
   "outputs": [],
   "source": [
    "from normalorder.sense.model import Model\n",
    "import sympy\n",
    "import numpy as np\n",
    "from scipy.integrate import solve_ivp\n",
    "import pandas as pd\n",
    "import matplotlib\n",
    "import matplotlib.pyplot as plt"
   ]
  },
  {
   "cell_type": "markdown",
   "metadata": {},
   "source": [
    "# Setup\n",
    "We create an instance of the Model class and set the order up to which we wish to carry out a Taylor series expansion of the potential."
   ]
  },
  {
   "cell_type": "code",
   "execution_count": 2,
   "metadata": {},
   "outputs": [],
   "source": [
    "order = 1\n",
    "\n",
    "model = Model()\n",
    "model.set_order(order)"
   ]
  },
  {
   "cell_type": "markdown",
   "metadata": {},
   "source": [
    "Next we use sympy to define the potential. First we define the parameter symbols which are used to write down the potential along with phi_sym, which is the phase difference over the inductive element in the resonator. \n",
    "\n",
    "Then we place the parameter symbols into a dictionary where the keys are the symbol names, before constructing the potential as an expression. This expression is fed to the model along with the dictionary which names the symbols.\n",
    "\n",
    "The potenial expression is stored as an attribute of the model at model.potential_expr."
   ]
  },
  {
   "cell_type": "code",
   "execution_count": 3,
   "metadata": {},
   "outputs": [
    {
     "data": {
      "text/latex": [
       "$\\displaystyle - \\cos{\\left(\\phi \\right)} - \\cos{\\left(\\phi - \\phi_{ext} \\right)}$"
      ],
      "text/plain": [
       "-cos(phi) - cos(phi - phi_ext)"
      ]
     },
     "execution_count": 3,
     "metadata": {},
     "output_type": "execute_result"
    }
   ],
   "source": [
    "phi_sym, phi_ext_sym, f_J_sym = sympy.symbols('phi phi_ext f_J')\n",
    "potential_param_symbols = {'phi_ext': phi_ext_sym,\n",
    "                           'f_J': f_J_sym}\n",
    "potential_expr = -sympy.cos(phi_sym) - sympy.cos(phi_ext_sym - phi_sym)\n",
    "model.set_potential(potential_expr, potential_param_symbols)\n",
    "\n",
    "model.potential_expr"
   ]
  },
  {
   "cell_type": "markdown",
   "metadata": {},
   "source": [
    "Now we specify the numerical values of these parameters by defining them in \\hat{a} dictionary where the keys \\hat{a}re the names of the parameters."
   ]
  },
  {
   "cell_type": "code",
   "execution_count": 4,
   "metadata": {},
   "outputs": [],
   "source": [
    "phi_ext = 2 * np.pi * np.random.rand()\n",
    "f_J = 7500.0\n",
    "potential_params = {'phi_ext': phi_ext,\n",
    "                    'f_J': f_J}\n",
    "\n",
    "model.set_potential_params(potential_params)"
   ]
  },
  {
   "cell_type": "markdown",
   "metadata": {},
   "source": [
    "Next we define the parameters of the resonator modes. The parameters of each mode will be defined in separate dictionaries which are then collected together as items of an overall dictionary whose keys are the mode names i.e. 'a' and 'b' in this case.\n",
    "\n",
    "Each of the subdictionaries should contain f, I_ratio and kappa:\n",
    "\n",
    "f : float\n",
    "The frequency of the mode in GHz.\n",
    "\n",
    "I_ratio : float\n",
    "Ratio of the rms current of the mode at the location of the inductive element to the critical current I_c = 2 * e * f_J.\n",
    "\n",
    "\n",
    "kappa : float\n",
    "The relaxation rate of the mode in GHz. The time constant of relaxation is given by 1/(2 * pi * kappa)."
   ]
  },
  {
   "cell_type": "code",
   "execution_count": 5,
   "metadata": {},
   "outputs": [],
   "source": [
    "resonator_params_a = {'f': 1.0,\n",
    "                      'I_ratio': 0.001,\n",
    "                      'kappa': 0.001}\n",
    "\n",
    "resonator_params = {'a': resonator_params_a}\n",
    "\n",
    "model.set_resonator_params(resonator_params)"
   ]
  },
  {
   "cell_type": "markdown",
   "metadata": {},
   "source": [
    "Next we set the parameters of the drive. The drive will always be applied to the the first mode. In thise case mode 'a'."
   ]
  },
  {
   "cell_type": "code",
   "execution_count": 6,
   "metadata": {},
   "outputs": [
    {
     "data": {
      "text/plain": [
       "['a']"
      ]
     },
     "execution_count": 6,
     "metadata": {},
     "output_type": "execute_result"
    }
   ],
   "source": [
    "f_d = 1.000\n",
    "epsilon = 0.001\n",
    "model.set_drive_params(f_d, epsilon)\n",
    "\n",
    "model.mode_names"
   ]
  },
  {
   "cell_type": "markdown",
   "metadata": {},
   "source": [
    "# Generating the equation of motion"
   ]
  },
  {
   "cell_type": "markdown",
   "metadata": {},
   "source": [
    "Now we can generate the Hamiltonian and Lindblad operators, which will be stored in the attributes model.hamiltonian and model.lindblad_ops."
   ]
  },
  {
   "cell_type": "code",
   "execution_count": 7,
   "metadata": {},
   "outputs": [],
   "source": [
    "model.generate_hamiltonian()\n",
    "model.generate_lindblad_ops()"
   ]
  },
  {
   "cell_type": "markdown",
   "metadata": {},
   "source": [
    "These are used to generate the operator $O_a$ on the right hand sides of the equation of motion:\n",
    "$$\\partial_t a = \\text{Tr} \\Bigg[ \\Bigg( i [H, \\hat{a}] + \\sum_m \\bigg( L^\\dagger_m \\hat{a} L_m - \\frac{1}{2} \\hat{a} L_m^\\dagger L_m - \\frac{1}{2} L_m^\\dagger L_m \\hat{a} \\bigg) \\Bigg) \\rho \\Bigg] \\\\ = \\text{Tr} \\Big[ O_a \\rho \\Big]$$\n",
    "\n",
    "$O_a$ is stored at model.eom_ops."
   ]
  },
  {
   "cell_type": "code",
   "execution_count": 8,
   "metadata": {},
   "outputs": [],
   "source": [
    "model.generate_eom_ops()"
   ]
  },
  {
   "cell_type": "markdown",
   "metadata": {},
   "source": [
    "Next we make the classical approximation, i.e. $\\rho = \\vert a \\rangle \\langle a \\vert$, and generate the right hand sides of the above equations of motion in symbolic form. The expressions describing these equations of motion are stored at model.eom_exprs."
   ]
  },
  {
   "cell_type": "code",
   "execution_count": 9,
   "metadata": {},
   "outputs": [],
   "source": [
    "model.generate_eom_exprs()"
   ]
  },
  {
   "cell_type": "markdown",
   "metadata": {},
   "source": [
    "## Static external field\n",
    "Finally we are ready to generate the equations of motion in a form which can be numerically integrated, which will be stored at model.eom."
   ]
  },
  {
   "cell_type": "code",
   "execution_count": 10,
   "metadata": {},
   "outputs": [],
   "source": [
    "model.generate_eom()\n",
    "\n",
    "def ode_wrapper(t, y):\n",
    "    return model.eom(y)\n",
    "\n",
    "t_span = [0, 2000]\n",
    "t_eval = np.linspace(*t_span, 10001)\n",
    "y_0 = np.array([1.0], dtype=complex)\n",
    "tol = 1e-7\n",
    "sol = solve_ivp(ode_wrapper, t_span, y_0, t_eval=t_eval, rtol=tol, atol=tol)\n",
    "sol_frame = pd.DataFrame(sol.y.T, index=sol.t, columns=model.mode_names)"
   ]
  },
  {
   "cell_type": "code",
   "execution_count": 11,
   "metadata": {},
   "outputs": [
    {
     "data": {
      "text/plain": [
       "Text(0, 0.5, '$\\\\alpha$')"
      ]
     },
     "execution_count": 11,
     "metadata": {},
     "output_type": "execute_result"
    },
    {
     "data": {
      "image/png": "[encoded data removed]",
      "text/plain": [
       "<Figure size 720x360 with 1 Axes>"
      ]
     },
     "metadata": {
      "needs_background": "light"
     },
     "output_type": "display_data"
    }
   ],
   "source": [
    "matplotlib.rcParams.update({'font.size': 22})\n",
    "\n",
    "fig, axes = plt.subplots(1,1,figsize=(10,5),sharex=True)\n",
    "\n",
    "sol_frame['a'].map(lambda x: x.real).plot(ax=axes)\n",
    "sol_frame['a'].map(lambda x: x.imag).plot(ax=axes)\n",
    "\n",
    "legend = axes.legend(['Real', 'Imaginary'], loc=0)\n",
    "\n",
    "axes.set_xlabel('Time [ns]')\n",
    "axes.set_ylabel(r'$\\alpha$')"
   ]
  },
  {
   "cell_type": "markdown",
   "metadata": {},
   "source": [
    "## Variable external field\n",
    "We can also generate equations of motion in which the parameters of the potential can be varied. In the example below we allow the external magnetic field, phi_ext, to be varied."
   ]
  },
  {
   "cell_type": "code",
   "execution_count": 12,
   "metadata": {},
   "outputs": [],
   "source": [
    "model.generate_eom(potential_variables=['phi_ext'])\n",
    "\n",
    "def ode_wrapper(t, y):\n",
    "    f_phi_ext = 0.01\n",
    "    delta_phi_ext = 0.1*np.cos(2*np.pi*f_phi_ext*t)\n",
    "    return model.eom(y, delta_phi_ext)\n",
    "\n",
    "t_span = [0, 2000]\n",
    "t_eval = np.linspace(*t_span, 10001)\n",
    "y_0 = np.array([1.0], dtype=complex)\n",
    "tol = 1e-7\n",
    "sol = solve_ivp(ode_wrapper, t_span, y_0, t_eval=t_eval, rtol=tol, atol=tol)\n",
    "sol_frame = pd.DataFrame(sol.y.T, index=sol.t, columns=model.mode_names)"
   ]
  },
  {
   "cell_type": "code",
   "execution_count": 13,
   "metadata": {},
   "outputs": [
    {
     "data": {
      "text/plain": [
       "Text(0, 0.5, '$\\\\alpha$')"
      ]
     },
     "execution_count": 13,
     "metadata": {},
     "output_type": "execute_result"
    },
    {
     "data": {
      "image/png": "[encoded data removed]",
      "text/plain": [
       "<Figure size 720x360 with 1 Axes>"
      ]
     },
     "metadata": {
      "needs_background": "light"
     },
     "output_type": "display_data"
    }
   ],
   "source": [
    "matplotlib.rcParams.update({'font.size': 22})\n",
    "\n",
    "fig, axes = plt.subplots(1,1,figsize=(10,5),sharex=True)\n",
    "\n",
    "sol_frame['a'].map(lambda x: x.real).plot(ax=axes)\n",
    "sol_frame['a'].map(lambda x: x.imag).plot(ax=axes)\n",
    "\n",
    "legend = axes.legend(['Real', 'Imaginary'], loc='best')\n",
    "\n",
    "axes.set_xlabel('Time [ns]')\n",
    "axes.set_ylabel(r'$\\alpha$')"
   ]
  },
  {
   "cell_type": "markdown",
   "metadata": {},
   "source": [
    "# Examining coefficients\n",
    "We can generate the g coefficients symbolically as follows:"
   ]
  },
  {
   "cell_type": "code",
   "execution_count": 14,
   "metadata": {},
   "outputs": [
    {
     "ename": "Exception",
     "evalue": "Requested g expression is higher than the order of the model.",
     "output_type": "error",
     "traceback": [
      "\u001b[0;31m---------------------------------------------------------------------------\u001b[0m",
      "\u001b[0;31mException\u001b[0m                                 Traceback (most recent call last)",
      "\u001b[0;32m<ipython-input-14-7801d0df0ca6>\u001b[0m in \u001b[0;36m<module>\u001b[0;34m\u001b[0m\n\u001b[1;32m      1\u001b[0m \u001b[0mm\u001b[0m \u001b[0;34m=\u001b[0m \u001b[0;36m3\u001b[0m\u001b[0;34m\u001b[0m\u001b[0;34m\u001b[0m\u001b[0m\n\u001b[0;32m----> 2\u001b[0;31m \u001b[0mmodel\u001b[0m\u001b[0;34m.\u001b[0m\u001b[0mg_expr_gen\u001b[0m\u001b[0;34m(\u001b[0m\u001b[0mm\u001b[0m\u001b[0;34m)\u001b[0m\u001b[0;34m\u001b[0m\u001b[0;34m\u001b[0m\u001b[0m\n\u001b[0m",
      "\u001b[0;32m~/PycharmProjects/normalorder/normalorder/sense/model.py\u001b[0m in \u001b[0;36mg_expr_gen\u001b[0;34m(self, m)\u001b[0m\n\u001b[1;32m    181\u001b[0m         \"\"\"\n\u001b[1;32m    182\u001b[0m         \u001b[0;32mif\u001b[0m \u001b[0mm\u001b[0m \u001b[0;34m>\u001b[0m \u001b[0mself\u001b[0m\u001b[0;34m.\u001b[0m\u001b[0morder\u001b[0m\u001b[0;34m:\u001b[0m\u001b[0;34m\u001b[0m\u001b[0;34m\u001b[0m\u001b[0m\n\u001b[0;32m--> 183\u001b[0;31m             \u001b[0;32mraise\u001b[0m \u001b[0mException\u001b[0m\u001b[0;34m(\u001b[0m\u001b[0;34m'Requested g expression is higher than the order of the model.'\u001b[0m\u001b[0;34m)\u001b[0m\u001b[0;34m\u001b[0m\u001b[0;34m\u001b[0m\u001b[0m\n\u001b[0m\u001b[1;32m    184\u001b[0m         \u001b[0;32melse\u001b[0m\u001b[0;34m:\u001b[0m\u001b[0;34m\u001b[0m\u001b[0;34m\u001b[0m\u001b[0m\n\u001b[1;32m    185\u001b[0m             \u001b[0;32mreturn\u001b[0m \u001b[0mself\u001b[0m\u001b[0;34m.\u001b[0m\u001b[0m__g_expr\u001b[0m\u001b[0;34m[\u001b[0m\u001b[0mm\u001b[0m\u001b[0;34m]\u001b[0m\u001b[0;34m\u001b[0m\u001b[0;34m\u001b[0m\u001b[0m\n",
      "\u001b[0;31mException\u001b[0m: Requested g expression is higher than the order of the model."
     ]
    }
   ],
   "source": [
    "m = 3\n",
    "model.g_expr_gen(m)"
   ]
  },
  {
   "cell_type": "markdown",
   "metadata": {},
   "source": [
    "We can numerically calculate the values of c and g coefficients. First we choose the value of the phase, phi, around which to carry out the Taylor expansion of the potential."
   ]
  },
  {
   "cell_type": "code",
   "execution_count": null,
   "metadata": {},
   "outputs": [],
   "source": [
    "phi = 2.5\n",
    "m = 3\n",
    "print(model.c_func(m,phi))\n",
    "print(model.g_func(m,phi))"
   ]
  }
 ],
 "metadata": {
  "kernelspec": {
   "display_name": "normalorder",
   "language": "python",
   "name": "normalorder"
  },
  "language_info": {
   "codemirror_mode": {
    "name": "ipython",
    "version": 3
   },
   "file_extension": ".py",
   "mimetype": "text/x-python",
   "name": "python",
   "nbconvert_exporter": "python",
   "pygments_lexer": "ipython3",
   "version": "3.6.12"
  }
 },
 "nbformat": 4,
 "nbformat_minor": 2
}
