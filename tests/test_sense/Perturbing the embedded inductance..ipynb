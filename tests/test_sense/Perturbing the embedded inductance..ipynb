{
 "cells": [
  {
   "cell_type": "markdown",
   "id": "aboriginal-processor",
   "metadata": {},
   "source": [
    "# Explanation of ModeTest.test_perturb_embedded_inductance. #\n",
    "\n",
    "According to Bourassa, J., Beaudoin, F., Gambetta, J.M. and Blais, A., 2012. Josephson-junction-embedded transmission-line resonators: From Kerr medium to in-line transmon. Physical Review A, 86(1), p.013814 the potential of the resonator is given by:\n",
    "\n",
    "$$ V = \\int_{-l}^{+l} \\frac{\\psi^{\\prime 2}}{2 L^0} dx + \\frac{\\delta^2}{2 L_J} $$\n",
    "\n",
    "Let us examine the modes resulting from two different embedded inductances:\n",
    "\n",
    "$$ L_{J2} = L_{J1} + \\Delta L_J $$\n",
    "\n",
    "The change in the potential is given by:\n",
    "\n",
    "$$ \\Delta V = V_2 - V_1 \\\\\n",
    "= - \\frac{\\delta^2 \\Delta L_J}{2 L_{J1} ( L_{J1} + \\Delta L_J)} \\\\\n",
    "\\approx - \\frac{\\delta^2 \\Delta L_J}{2 L_{J1}^2 } $$\n",
    "\n",
    "The phase difference over the embedded inductance is given by:\n",
    "\n",
    "$$ \\delta = \\sum_m \\psi_m \\Delta u_m $$\n",
    "\n",
    "We will use the modes found using the first inductance. After the rotating wave approximation we find:\n",
    "\n",
    "$$ \\Delta V \\approx - \\frac{\\Delta L_J}{2 L_{J1}^2} \\sum_m \\psi_{m1}^2 \\Delta u_{m1}^2 $$\n",
    "\n",
    "\n",
    "$$ V_2 \\approx \\sum_m \\psi_{m1}^2 \\bigg( \\frac{1}{2 L_{m1}} - \\frac{\\Delta u_{m1}^2 \\Delta L_J}{2 L_{J1}^2} \\bigg) $$\n",
    "\n",
    "The eigenfrequencies with the second embedded inductance are given by:\n",
    "\n",
    "$$ \\omega_{m2} = \\frac{1}{\\sqrt{C_\\Sigma L_{m2}}} $$\n",
    "\n",
    "$$ \\frac{1}{2 L_{m2}} \\approx \\frac{1}{2 L_{m1}} - \\frac{\\Delta u_{m1}^2 \\Delta L_J}{2 L_{J1}^2} $$\n",
    "\n",
    "$$ \\omega_{m2} \\approx \\omega_{m1} \\bigg( 1 - \\frac{\\Delta u_{m1}^2 \\Delta L_J L_{m1}}{L_{J1}^2} \\bigg)^{1/2} $$\n",
    "\n",
    "We test this ratio in ModeTest.test_perturb_embedded_inductance."
   ]
  },
  {
   "cell_type": "code",
   "execution_count": null,
   "id": "agricultural-found",
   "metadata": {},
   "outputs": [],
   "source": []
  }
 ],
 "metadata": {
  "kernelspec": {
   "display_name": "normalorder",
   "language": "python",
   "name": "normalorder"
  },
  "language_info": {
   "codemirror_mode": {
    "name": "ipython",
    "version": 3
   },
   "file_extension": ".py",
   "mimetype": "text/x-python",
   "name": "python",
   "nbconvert_exporter": "python",
   "pygments_lexer": "ipython3",
   "version": "3.8.6"
  }
 },
 "nbformat": 4,
 "nbformat_minor": 5
}
